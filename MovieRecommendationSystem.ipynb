{
 "cells": [
  {
   "cell_type": "code",
   "execution_count": 46,
   "id": "3316ef6c-1bac-40b9-b55c-b482c5fabec5",
   "metadata": {},
   "outputs": [],
   "source": [
    "# Data handling\n",
    "import pandas as pd\n",
    "import numpy as np\n",
    "\n",
    "import matplotlib.pyplot as plt\n",
    "import seaborn as sns\n",
    "\n",
    "import warnings\n",
    "warnings.filterwarnings('ignore')"
   ]
  },
  {
   "cell_type": "code",
   "execution_count": 47,
   "id": "809f6b62-f15b-4343-bf44-3c659e89dfff",
   "metadata": {},
   "outputs": [],
   "source": [
    "df = pd.read_csv(\"netflix_titles.csv\")"
   ]
  },
  {
   "cell_type": "code",
   "execution_count": 48,
   "id": "85bca232-4955-4f53-bae5-6ca2c067e0e3",
   "metadata": {},
   "outputs": [
    {
     "data": {
      "text/html": [
       "<div>\n",
       "<style scoped>\n",
       "    .dataframe tbody tr th:only-of-type {\n",
       "        vertical-align: middle;\n",
       "    }\n",
       "\n",
       "    .dataframe tbody tr th {\n",
       "        vertical-align: top;\n",
       "    }\n",
       "\n",
       "    .dataframe thead th {\n",
       "        text-align: right;\n",
       "    }\n",
       "</style>\n",
       "<table border=\"1\" class=\"dataframe\">\n",
       "  <thead>\n",
       "    <tr style=\"text-align: right;\">\n",
       "      <th></th>\n",
       "      <th>show_id</th>\n",
       "      <th>type</th>\n",
       "      <th>title</th>\n",
       "      <th>director</th>\n",
       "      <th>cast</th>\n",
       "      <th>country</th>\n",
       "      <th>date_added</th>\n",
       "      <th>release_year</th>\n",
       "      <th>rating</th>\n",
       "      <th>duration</th>\n",
       "      <th>listed_in</th>\n",
       "      <th>description</th>\n",
       "    </tr>\n",
       "  </thead>\n",
       "  <tbody>\n",
       "    <tr>\n",
       "      <th>0</th>\n",
       "      <td>s1</td>\n",
       "      <td>Movie</td>\n",
       "      <td>Dick Johnson Is Dead</td>\n",
       "      <td>Kirsten Johnson</td>\n",
       "      <td>NaN</td>\n",
       "      <td>United States</td>\n",
       "      <td>September 25, 2021</td>\n",
       "      <td>2020</td>\n",
       "      <td>PG-13</td>\n",
       "      <td>90 min</td>\n",
       "      <td>Documentaries</td>\n",
       "      <td>As her father nears the end of his life, filmm...</td>\n",
       "    </tr>\n",
       "    <tr>\n",
       "      <th>1</th>\n",
       "      <td>s2</td>\n",
       "      <td>TV Show</td>\n",
       "      <td>Blood &amp; Water</td>\n",
       "      <td>NaN</td>\n",
       "      <td>Ama Qamata, Khosi Ngema, Gail Mabalane, Thaban...</td>\n",
       "      <td>South Africa</td>\n",
       "      <td>September 24, 2021</td>\n",
       "      <td>2021</td>\n",
       "      <td>TV-MA</td>\n",
       "      <td>2 Seasons</td>\n",
       "      <td>International TV Shows, TV Dramas, TV Mysteries</td>\n",
       "      <td>After crossing paths at a party, a Cape Town t...</td>\n",
       "    </tr>\n",
       "    <tr>\n",
       "      <th>2</th>\n",
       "      <td>s3</td>\n",
       "      <td>TV Show</td>\n",
       "      <td>Ganglands</td>\n",
       "      <td>Julien Leclercq</td>\n",
       "      <td>Sami Bouajila, Tracy Gotoas, Samuel Jouy, Nabi...</td>\n",
       "      <td>NaN</td>\n",
       "      <td>September 24, 2021</td>\n",
       "      <td>2021</td>\n",
       "      <td>TV-MA</td>\n",
       "      <td>1 Season</td>\n",
       "      <td>Crime TV Shows, International TV Shows, TV Act...</td>\n",
       "      <td>To protect his family from a powerful drug lor...</td>\n",
       "    </tr>\n",
       "    <tr>\n",
       "      <th>3</th>\n",
       "      <td>s4</td>\n",
       "      <td>TV Show</td>\n",
       "      <td>Jailbirds New Orleans</td>\n",
       "      <td>NaN</td>\n",
       "      <td>NaN</td>\n",
       "      <td>NaN</td>\n",
       "      <td>September 24, 2021</td>\n",
       "      <td>2021</td>\n",
       "      <td>TV-MA</td>\n",
       "      <td>1 Season</td>\n",
       "      <td>Docuseries, Reality TV</td>\n",
       "      <td>Feuds, flirtations and toilet talk go down amo...</td>\n",
       "    </tr>\n",
       "    <tr>\n",
       "      <th>4</th>\n",
       "      <td>s5</td>\n",
       "      <td>TV Show</td>\n",
       "      <td>Kota Factory</td>\n",
       "      <td>NaN</td>\n",
       "      <td>Mayur More, Jitendra Kumar, Ranjan Raj, Alam K...</td>\n",
       "      <td>India</td>\n",
       "      <td>September 24, 2021</td>\n",
       "      <td>2021</td>\n",
       "      <td>TV-MA</td>\n",
       "      <td>2 Seasons</td>\n",
       "      <td>International TV Shows, Romantic TV Shows, TV ...</td>\n",
       "      <td>In a city of coaching centers known to train I...</td>\n",
       "    </tr>\n",
       "  </tbody>\n",
       "</table>\n",
       "</div>"
      ],
      "text/plain": [
       "  show_id     type                  title         director  \\\n",
       "0      s1    Movie   Dick Johnson Is Dead  Kirsten Johnson   \n",
       "1      s2  TV Show          Blood & Water              NaN   \n",
       "2      s3  TV Show              Ganglands  Julien Leclercq   \n",
       "3      s4  TV Show  Jailbirds New Orleans              NaN   \n",
       "4      s5  TV Show           Kota Factory              NaN   \n",
       "\n",
       "                                                cast        country  \\\n",
       "0                                                NaN  United States   \n",
       "1  Ama Qamata, Khosi Ngema, Gail Mabalane, Thaban...   South Africa   \n",
       "2  Sami Bouajila, Tracy Gotoas, Samuel Jouy, Nabi...            NaN   \n",
       "3                                                NaN            NaN   \n",
       "4  Mayur More, Jitendra Kumar, Ranjan Raj, Alam K...          India   \n",
       "\n",
       "           date_added  release_year rating   duration  \\\n",
       "0  September 25, 2021          2020  PG-13     90 min   \n",
       "1  September 24, 2021          2021  TV-MA  2 Seasons   \n",
       "2  September 24, 2021          2021  TV-MA   1 Season   \n",
       "3  September 24, 2021          2021  TV-MA   1 Season   \n",
       "4  September 24, 2021          2021  TV-MA  2 Seasons   \n",
       "\n",
       "                                           listed_in  \\\n",
       "0                                      Documentaries   \n",
       "1    International TV Shows, TV Dramas, TV Mysteries   \n",
       "2  Crime TV Shows, International TV Shows, TV Act...   \n",
       "3                             Docuseries, Reality TV   \n",
       "4  International TV Shows, Romantic TV Shows, TV ...   \n",
       "\n",
       "                                         description  \n",
       "0  As her father nears the end of his life, filmm...  \n",
       "1  After crossing paths at a party, a Cape Town t...  \n",
       "2  To protect his family from a powerful drug lor...  \n",
       "3  Feuds, flirtations and toilet talk go down amo...  \n",
       "4  In a city of coaching centers known to train I...  "
      ]
     },
     "execution_count": 48,
     "metadata": {},
     "output_type": "execute_result"
    }
   ],
   "source": [
    "df.head()"
   ]
  },
  {
   "cell_type": "code",
   "execution_count": 49,
   "id": "7b522b9d-e15b-4ff6-9df0-a002dd269735",
   "metadata": {},
   "outputs": [
    {
     "name": "stdout",
     "output_type": "stream",
     "text": [
      "Index(['show_id', 'type', 'title', 'director', 'cast', 'country', 'date_added',\n",
      "       'release_year', 'rating', 'duration', 'listed_in', 'description'],\n",
      "      dtype='object')\n"
     ]
    }
   ],
   "source": [
    "print(df.columns)"
   ]
  },
  {
   "cell_type": "code",
   "execution_count": 50,
   "id": "ad9c4cbd-4a4a-4160-b147-0a114257b5c1",
   "metadata": {},
   "outputs": [
    {
     "data": {
      "text/plain": [
       "show_id            0\n",
       "type               0\n",
       "title              0\n",
       "director        2634\n",
       "cast             825\n",
       "country          831\n",
       "date_added        10\n",
       "release_year       0\n",
       "rating             4\n",
       "duration           3\n",
       "listed_in          0\n",
       "description        0\n",
       "dtype: int64"
      ]
     },
     "execution_count": 50,
     "metadata": {},
     "output_type": "execute_result"
    }
   ],
   "source": [
    "# Checking for null values\n",
    "df.isnull().sum()"
   ]
  },
  {
   "cell_type": "code",
   "execution_count": 51,
   "id": "3d8ea3e6-172d-41d8-974e-b2371b71e64f",
   "metadata": {},
   "outputs": [],
   "source": [
    "# Filling missing values with empty strings\n",
    "df['director'] = df['director'].fillna('')\n",
    "df['cast'] = df['cast'].fillna('')\n",
    "df['country'] = df['country'].fillna('')\n",
    "df['date_added'] = df['date_added'].fillna('')\n",
    "df['rating'] = df['rating'].fillna('')\n",
    "df['duration'] = df['duration'].fillna('')"
   ]
  },
  {
   "cell_type": "code",
   "execution_count": 52,
   "id": "091f2e5d-1406-495f-8cfb-b7e3c7356028",
   "metadata": {},
   "outputs": [],
   "source": [
    "# Cleaning text\n",
    "#def clean_text(x):\n",
    "#    return x.lower().replace(\" \", \"\") if isinstance(x, str) else ''\n",
    "\n",
    "def clean_text(x):\n",
    "    return x.lower() if isinstance(x, str) else ''\n",
    "\n",
    "# Combinung selected features into one\n",
    "df['combined_features'] = df['title'] + ' ' + df['director'] + ' ' + \\\n",
    "                          df['cast'] + ' ' + df['listed_in'] + ' ' + df['description']"
   ]
  },
  {
   "cell_type": "code",
   "execution_count": 53,
   "id": "4dd62dfc-374a-4d10-a6d6-3881583d0d11",
   "metadata": {},
   "outputs": [],
   "source": [
    "# Clean the combined text\n",
    "df['combined_features'] = df['combined_features'].apply(clean_text)"
   ]
  },
  {
   "cell_type": "code",
   "execution_count": 54,
   "id": "e45445fa-3370-4b8a-91e8-ac00dcdf7165",
   "metadata": {},
   "outputs": [
    {
     "data": {
      "text/plain": [
       "0    dick johnson is dead kirsten johnson  document...\n",
       "1    blood & water  ama qamata, khosi ngema, gail m...\n",
       "2    ganglands julien leclercq sami bouajila, tracy...\n",
       "3    jailbirds new orleans   docuseries, reality tv...\n",
       "4    kota factory  mayur more, jitendra kumar, ranj...\n",
       "Name: combined_features, dtype: object"
      ]
     },
     "execution_count": 54,
     "metadata": {},
     "output_type": "execute_result"
    }
   ],
   "source": [
    "df['combined_features'].head()"
   ]
  },
  {
   "cell_type": "code",
   "execution_count": 55,
   "id": "eacf1fb6-afee-473c-845f-54ee77c2f1bd",
   "metadata": {},
   "outputs": [
    {
     "name": "stdout",
     "output_type": "stream",
     "text": [
      "(8807, 52938)\n"
     ]
    }
   ],
   "source": [
    "from sklearn.feature_extraction.text import TfidfVectorizer\n",
    "\n",
    "# Initialize the vectorizer\n",
    "tfidf = TfidfVectorizer(stop_words='english')\n",
    "\n",
    "# Transform the combined features column\n",
    "tfidf_matrix = tfidf.fit_transform(df['combined_features'])\n",
    "\n",
    "# Check shape of the resulting matrix\n",
    "print(tfidf_matrix.shape)\n"
   ]
  },
  {
   "cell_type": "code",
   "execution_count": 56,
   "id": "f68612e8-c9da-4f9a-94a1-4658e51d474c",
   "metadata": {},
   "outputs": [
    {
     "name": "stdout",
     "output_type": "stream",
     "text": [
      "Calculating cosine similarity:-\n",
      "Cosine similarity matrix shape: (8807, 8807)\n",
      "\n",
      "Similarity scores for the first show:\n",
      "[1.         0.         0.         0.         0.00751303 0.\n",
      " 0.         0.         0.02262031 0.00741236]\n"
     ]
    }
   ],
   "source": [
    "from sklearn.metrics.pairwise import cosine_similarity\n",
    "\n",
    "print(\"Calculating cosine similarity:-\")\n",
    "cosine_sim = cosine_similarity(tfidf_matrix, tfidf_matrix)\n",
    "\n",
    "print(f\"Cosine similarity matrix shape: {cosine_sim.shape}\")\n",
    "\n",
    "# Viewing similarity scores for the first show\n",
    "print(\"\\nSimilarity scores for the first show:\")\n",
    "print(cosine_sim[0][:10])  # Print similarities of show 0 to first 10 shows"
   ]
  },
  {
   "cell_type": "code",
   "execution_count": 69,
   "id": "f11f7268-e99a-464a-aa10-02347bf3d716",
   "metadata": {},
   "outputs": [
    {
     "name": "stdout",
     "output_type": "stream",
     "text": [
      "\n",
      "Index of 'Stranger Things': 3685\n"
     ]
    }
   ],
   "source": [
    "# Map show titles to indices\n",
    "indices = pd.Series(df.index, index=df['title'].str.lower()).drop_duplicates()\n",
    "\n",
    "# Check it\n",
    "print(\"\\nIndex of 'Stranger Things':\", indices.get('stranger things'))"
   ]
  },
  {
   "cell_type": "code",
   "execution_count": 75,
   "id": "46adc95b-7157-4a5b-8490-9472c6ac5714",
   "metadata": {},
   "outputs": [],
   "source": [
    "def recommend(title, cosine_sim=cosine_sim, df=df, indices=indices):\n",
    "    # Convert the title to lowercase to ensure case-insensitive matching\n",
    "    title = title.lower()\n",
    "\n",
    "    # If the title doesn't exist in our dataset, return an empty list\n",
    "    if title not in indices:\n",
    "        return []\n",
    "\n",
    "    # Step 1: Get the index of the given show from the indices mapping\n",
    "    index = indices[title]\n",
    "\n",
    "    # Step 2: Get the similarity scores for this show with all other shows\n",
    "    similarity_scores = list(enumerate(cosine_sim[index]))\n",
    "\n",
    "    # Step 3: Sort all shows based on their similarity score (highest first)\n",
    "    similarity_scores = sorted(similarity_scores, key=lambda x: x[1], reverse=True)\n",
    "\n",
    "    # Step 4: Exclude the first item (it’s the same show) and take top 10 similar shows\n",
    "    top_matches = similarity_scores[1:11]\n",
    "\n",
    "    # Step 5: Extract the indices of those top 10 similar shows\n",
    "    top_indices = [i[0] for i in top_matches]\n",
    "\n",
    "    # Step 6: Return the titles of the top recommended shows\n",
    "    return df['title'].iloc[top_indices].tolist()\n"
   ]
  },
  {
   "cell_type": "code",
   "execution_count": 77,
   "id": "58e69cd0-23a5-4c38-baa6-02d2ab9f1954",
   "metadata": {},
   "outputs": [
    {
     "name": "stdout",
     "output_type": "stream",
     "text": [
      "\n",
      "Recommended Shows:\n",
      "1. Beyond Stranger Things\n",
      "2. Prank Encounters\n",
      "3. Eli\n",
      "4. Things Heard & Seen\n",
      "5. Homefront\n",
      "6. The Umbrella Academy\n",
      "7. Kiss Me First\n",
      "8. The Sinner\n",
      "9. Safe Haven\n",
      "10. Good Witch\n"
     ]
    }
   ],
   "source": [
    "recommendations = recommend(\"Stranger Things\")\n",
    "\n",
    "print(\"\\nRecommended Shows:\")\n",
    "for idx, show in enumerate(recommendations, 1):\n",
    "    print(f\"{idx}. {show}\")"
   ]
  },
  {
   "cell_type": "code",
   "execution_count": 79,
   "id": "2bc001b4-c2eb-42fe-a7aa-2fd5ffd3a28f",
   "metadata": {},
   "outputs": [],
   "source": [
    "import pickle\n",
    "\n",
    "# Save cosine similarity\n",
    "with open('cosine_sim.pkl', 'wb') as f:\n",
    "    pickle.dump(cosine_sim, f)\n",
    "\n",
    "# Save dataframe\n",
    "with open('df.pkl', 'wb') as f:\n",
    "    pickle.dump(df, f)\n",
    "\n",
    "# Save indices\n",
    "with open('indices.pkl', 'wb') as f:\n",
    "    pickle.dump(indices, f)"
   ]
  },
  {
   "cell_type": "code",
   "execution_count": null,
   "id": "b55eafd9-be97-4642-84f7-0bbc848818f2",
   "metadata": {},
   "outputs": [],
   "source": []
  }
 ],
 "metadata": {
  "kernelspec": {
   "display_name": "Python 3 (ipykernel)",
   "language": "python",
   "name": "python3"
  },
  "language_info": {
   "codemirror_mode": {
    "name": "ipython",
    "version": 3
   },
   "file_extension": ".py",
   "mimetype": "text/x-python",
   "name": "python",
   "nbconvert_exporter": "python",
   "pygments_lexer": "ipython3",
   "version": "3.12.4"
  }
 },
 "nbformat": 4,
 "nbformat_minor": 5
}
